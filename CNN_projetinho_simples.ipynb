{
  "nbformat": 4,
  "nbformat_minor": 0,
  "metadata": {
    "colab": {
      "provenance": []
    },
    "kernelspec": {
      "name": "python3",
      "display_name": "Python 3"
    },
    "language_info": {
      "name": "python"
    }
  },
  "cells": [
    {
      "cell_type": "code",
      "execution_count": 1,
      "metadata": {
        "id": "iLIoyqrp17Xv",
        "colab": {
          "base_uri": "https://localhost:8080/"
        },
        "outputId": "c988ea4d-3600-4431-a672-ca92087794fd"
      },
      "outputs": [
        {
          "output_type": "stream",
          "name": "stdout",
          "text": [
            "Files already downloaded and verified\n",
            "Files already downloaded and verified\n"
          ]
        }
      ],
      "source": [
        "import warnings\n",
        "warnings.filterwarnings('ignore')\n",
        "import torch\n",
        "import torchvision\n",
        "import torchvision.transforms as transforms\n",
        "import matplotlib.pyplot as plt\n",
        "\n",
        "transform = transforms.Compose(\n",
        "                    [transforms.ToTensor(),\n",
        "                     transforms.Normalize((0.5, 0.5, 0.5), (0.5, 0.5, 0.5))])\n",
        "\n",
        "batch_size = 4\n",
        "\n",
        "trainset = torchvision.datasets.CIFAR10(root='./data', train=True,\n",
        "                                        download=True, transform=transform)\n",
        "\n",
        "trainloader = torch.utils.data.DataLoader(trainset, batch_size=batch_size,\n",
        "                                          shuffle=True, num_workers=2)\n",
        "\n",
        "testset = torchvision.datasets.CIFAR10(root='./data', train=False,\n",
        "                                       download=True, transform=transform)\n",
        "testloader = torch.utils.data.DataLoader(testset, batch_size=batch_size,\n",
        "                                         shuffle=False, num_workers=2)\n",
        "\n",
        "classes = ('aeronave', 'carro', 'passaro', 'gato',\n",
        "           'veado', 'cachorro', 'sapo', 'cavalo', 'navio', 'caminhao')"
      ]
    },
    {
      "cell_type": "code",
      "source": [
        "import numpy as np\n",
        "def imshow(img):\n",
        "    img = (img * 0.5) + 0.5\n",
        "    npimg = img.numpy()\n",
        "    plt.imshow(np.transpose(npimg, (1, 2, 0)))\n",
        "\n",
        "dataiter = iter(trainloader)\n",
        "images, labels = next(dataiter)\n",
        "\n",
        "\n",
        "fig = plt.figure(figsize=(20, 4))\n",
        "for idx in np.arange(4):\n",
        "    ax = fig.add_subplot(2, 4, idx+1, xticks=[], yticks=[])\n",
        "    imshow(images[idx])\n",
        "    ax.set_title(classes[labels[idx]])\n",
        "\n",
        "plt.show()"
      ],
      "metadata": {
        "colab": {
          "base_uri": "https://localhost:8080/",
          "height": 199
        },
        "id": "Pwf9cRe98hF9",
        "outputId": "4c356655-694b-4ff2-fb08-47e644d89ae6"
      },
      "execution_count": 2,
      "outputs": [
        {
          "output_type": "display_data",
          "data": {
            "text/plain": [
              "<Figure size 2000x400 with 4 Axes>"
            ],
            "image/png": "[encoded data removed]"
          },
          "metadata": {}
        }
      ]
    },
    {
      "cell_type": "code",
      "source": [
        "import torch.nn as nn\n",
        "import torch.nn.functional as F\n",
        "\n",
        "class CNN(nn.Module):\n",
        "    def __init__(self):\n",
        "        super().__init__()\n",
        "        self.conv1 = nn.Conv2d(3, 6, 5)        # classe convolucional bidimensional, 3 canais de entrada (RGB), 6 camamdas(numeor de filtros convolucionais) , e 5 de kernel\n",
        "        self.pool = nn.MaxPool2d(2, 2)   #Maxpool (pooling= redução dimensional) janela 2x2, stride de 2=> redução pela metade (valor maximo em cada janela)\n",
        "        self.conv2 = nn.Conv2d(6, 16, 5) #outra camada convolucional que tem 6 de entrada, 16 camadas, filtro de 5x5\n",
        "        self.fc1 = nn.Linear(16 * 5 * 5, 120) #camada linear (totalmente conectada), mapeia osneuronios de entrada para os de saída, 120 neuronios intermediarios\n",
        "        self.fc2 = nn.Linear(120, 84)  # outra cmaamda linear que conecta 120 neuronios da camada anterior a 84 nessa intermemdiaria\n",
        "        self.fc3 = nn.Linear(84, 10) # 84 da anterior para 10 saidas CIFAR-10\n",
        "\n",
        "    def forward(self, x):\n",
        "        x = self.pool(F.relu(self.conv1(x))) #pooling com relu função de ativasção aa cada convolução, passando pelas camadas, para reduzir a dimnesão espacial das saídas convolucionais\n",
        "        x = self.pool(F.relu(self.conv2(x)))\n",
        "        x = torch.flatten(x, 1) # dimensionar\n",
        "        x = F.relu(self.fc1(x)) # o vetor achatado passa pela primeira camada linear e aplica a relu\n",
        "        x = F.relu(self.fc2(x)) #\n",
        "        x = self.fc3(x) #passa pela final se funçãod e ativação pois é a final ne\n",
        "        return x\n",
        "\n",
        "\n",
        "cnn = CNN()"
      ],
      "metadata": {
        "id": "RneLeCra9o8F"
      },
      "execution_count": 3,
      "outputs": []
    },
    {
      "cell_type": "markdown",
      "source": [
        "# Loss function e otimizador"
      ],
      "metadata": {
        "id": "hG1YPH6pK-jU"
      }
    },
    {
      "cell_type": "code",
      "source": [
        "import torch.optim as optim\n",
        "\n",
        "criterion = nn.CrossEntropyLoss() #cross entropy p perda\n",
        "optimizer = optim.SGD(cnn.parameters(), lr=0.001, momentum=0.9)#grqadiente descendent estocastico para estimativa, taxa de aprendizado, momentum suaviza as atualizações de peso"
      ],
      "metadata": {
        "id": "C0VOR8Aq9rx5"
      },
      "execution_count": 4,
      "outputs": []
    },
    {
      "cell_type": "markdown",
      "source": [
        "# treinando"
      ],
      "metadata": {
        "id": "54NTZA8yLkPq"
      }
    },
    {
      "cell_type": "code",
      "source": [
        "epochs = 4 # vezews\n",
        "for epoch in range(epochs):\n",
        "    running_loss = 0.0\n",
        "    for i, data in enumerate(trainloader, 0): #percorrendo os batches de dados\n",
        "        inputs, labels = data# um batch é carregado em trainloader e armazenado em data ISSO PARA CADA BATCHHH !!\n",
        "\n",
        "        optimizer.zero_grad() # gradientes zerados a iteraçãp para nao se acumular em backward\n",
        "\n",
        "        outputs = cnn(inputs)\n",
        "        loss = criterion(outputs, labels) #calcula a perda por crossentropy\n",
        "        loss.backward()\n",
        "        optimizer.step() #att os epsos\n",
        "\n",
        "        running_loss += loss.item()\n",
        "        if i % 2000 == 1999:\n",
        "            print('[%d, %5d] loss: %.3f' %\n",
        "                  (epoch + 1, i + 1, running_loss / 2000))\n",
        "            running_loss = 0.0\n",
        "\n",
        "print('Finished Training')\n"
      ],
      "metadata": {
        "colab": {
          "base_uri": "https://localhost:8080/"
        },
        "id": "q3nvwGZo9uAh",
        "outputId": "47f006d3-7c52-4319-ef30-b3054b53e2cb"
      },
      "execution_count": 5,
      "outputs": [
        {
          "output_type": "stream",
          "name": "stdout",
          "text": [
            "[1,  2000] loss: 2.208\n",
            "[1,  4000] loss: 1.826\n",
            "[1,  6000] loss: 1.621\n",
            "[1,  8000] loss: 1.558\n",
            "[1, 10000] loss: 1.499\n",
            "[1, 12000] loss: 1.467\n",
            "[2,  2000] loss: 1.401\n",
            "[2,  4000] loss: 1.354\n",
            "[2,  6000] loss: 1.345\n",
            "[2,  8000] loss: 1.354\n",
            "[2, 10000] loss: 1.307\n",
            "[2, 12000] loss: 1.279\n",
            "[3,  2000] loss: 1.209\n",
            "[3,  4000] loss: 1.223\n",
            "[3,  6000] loss: 1.209\n",
            "[3,  8000] loss: 1.199\n",
            "[3, 10000] loss: 1.181\n",
            "[3, 12000] loss: 1.167\n",
            "[4,  2000] loss: 1.085\n",
            "[4,  4000] loss: 1.115\n",
            "[4,  6000] loss: 1.094\n",
            "[4,  8000] loss: 1.113\n",
            "[4, 10000] loss: 1.118\n",
            "[4, 12000] loss: 1.106\n",
            "Finished Training\n"
          ]
        }
      ]
    },
    {
      "cell_type": "code",
      "source": [
        "import os\n",
        "model_path = './model/'\n",
        "file_name = 'cnn_model.pth'\n",
        "\n",
        "if not os.path.exists(model_path):\n",
        "        os.makedirs(model_path)\n",
        "\n",
        "torch.save(cnn.state_dict(), model_path + file_name)"
      ],
      "metadata": {
        "id": "IFILM5En91Fj"
      },
      "execution_count": 6,
      "outputs": []
    },
    {
      "cell_type": "markdown",
      "source": [
        "# teste"
      ],
      "metadata": {
        "id": "zN8dt84PQNMe"
      }
    },
    {
      "cell_type": "code",
      "source": [
        "dataiter = iter(testloader) #usando o teste e nao o treino\n",
        "images, labels = next(dataiter)\n",
        "\n",
        "fig = plt.figure(figsize=(20, 4))\n",
        "for idx in np.arange(4):\n",
        "    ax = fig.add_subplot(2, 4, idx+1, xticks=[], yticks=[])\n",
        "    imshow(images[idx])\n",
        "    ax.set_title(classes[labels[idx]])\n",
        "\n",
        "plt.show()"
      ],
      "metadata": {
        "colab": {
          "base_uri": "https://localhost:8080/",
          "height": 199
        },
        "id": "NP37so0-KaRG",
        "outputId": "04563108-7e4a-49dc-d4ab-2866e5e37647"
      },
      "execution_count": 7,
      "outputs": [
        {
          "output_type": "display_data",
          "data": {
            "text/plain": [
              "<Figure size 2000x400 with 4 Axes>"
            ],
            "image/png": "[encoded data removed]"
          },
          "metadata": {}
        }
      ]
    },
    {
      "cell_type": "code",
      "source": [
        "cnn = CNN()\n",
        "cnn.load_state_dict(torch.load(model_path + file_name))"
      ],
      "metadata": {
        "colab": {
          "base_uri": "https://localhost:8080/"
        },
        "id": "Rtsb0sPpQkgJ",
        "outputId": "6c154531-b203-43ee-cd54-d297ec67c6ce"
      },
      "execution_count": 8,
      "outputs": [
        {
          "output_type": "execute_result",
          "data": {
            "text/plain": [
              "<All keys matched successfully>"
            ]
          },
          "metadata": {},
          "execution_count": 8
        }
      ]
    },
    {
      "cell_type": "code",
      "source": [
        "outputs = cnn(images)\n",
        "outputs\n",
        "\n",
        "_, predicted = torch.max(outputs, 1)\n",
        "\n",
        "print('Predicted: ', ' '.join('%5s' % classes[predicted[j]]\n",
        "                              for j in range(4)))# num gostei pq ficou errado ms é normal"
      ],
      "metadata": {
        "colab": {
          "base_uri": "https://localhost:8080/"
        },
        "id": "w8V3nx5fQqyd",
        "outputId": "1c635d8e-d29b-41fe-f359-e6835d88f6f2"
      },
      "execution_count": 9,
      "outputs": [
        {
          "output_type": "stream",
          "name": "stdout",
          "text": [
            "Predicted:   gato navio caminhao aeronave\n"
          ]
        }
      ]
    },
    {
      "cell_type": "code",
      "source": [
        "correct = 0\n",
        "total = 0\n",
        "with torch.no_grad():\n",
        "    for data in testloader:\n",
        "        images, labels = data #armazena os batchs\n",
        "        outputs = cnn(images)\n",
        "        _, predicted = torch.max(outputs.data, 1) # torchmax para obter o indice de classe com a maior prob\n",
        "        total += labels.size(0)\n",
        "        correct += (predicted == labels).sum().item()\n",
        "\n",
        "print('Accuracy of the network on the 10000 test images: %d %%' % (\n",
        "    100 * correct / total))"
      ],
      "metadata": {
        "colab": {
          "base_uri": "https://localhost:8080/"
        },
        "id": "0z8m3_92Qu2x",
        "outputId": "2edffef0-3d80-455b-ae19-fa72e0f52c99"
      },
      "execution_count": 10,
      "outputs": [
        {
          "output_type": "stream",
          "name": "stdout",
          "text": [
            "Accuracy of the network on the 10000 test images: 60 %\n"
          ]
        }
      ]
    },
    {
      "cell_type": "markdown",
      "source": [
        "# analisando a performance"
      ],
      "metadata": {
        "id": "jf5VmIDmRwSU"
      }
    },
    {
      "cell_type": "code",
      "source": [
        "correct_pred = {classname: 0 for classname in classes}\n",
        "total_pred = {classname: 0 for classname in classes}\n",
        "\n",
        "with torch.no_grad():\n",
        "    for data in testloader:\n",
        "        images, labels = data\n",
        "        outputs = cnn(images)\n",
        "        _, predictions = torch.max(outputs, 1)\n",
        "\n",
        "        for label, prediction in zip(labels, predictions):\n",
        "            if label == prediction:\n",
        "                correct_pred[classes[label]] += 1\n",
        "            total_pred[classes[label]] += 1\n",
        "\n",
        "for classname, correct_count in correct_pred.items():\n",
        "    accuracy = 100 * float(correct_count) / total_pred[classname]\n",
        "    print(\"Accuracy for class {:5s} is: {:.1f} %\".format(classname,\n",
        "                                                   accuracy))"
      ],
      "metadata": {
        "colab": {
          "base_uri": "https://localhost:8080/"
        },
        "id": "o0N8iNHdRHPz",
        "outputId": "74c8710a-66eb-4a71-fbf1-c0e11bb8929e"
      },
      "execution_count": 11,
      "outputs": [
        {
          "output_type": "stream",
          "name": "stdout",
          "text": [
            "Accuracy for class aeronave is: 58.3 %\n",
            "Accuracy for class carro is: 63.0 %\n",
            "Accuracy for class passaro is: 52.4 %\n",
            "Accuracy for class gato  is: 35.5 %\n",
            "Accuracy for class veado is: 54.3 %\n",
            "Accuracy for class cachorro is: 54.6 %\n",
            "Accuracy for class sapo  is: 61.7 %\n",
            "Accuracy for class cavalo is: 74.0 %\n",
            "Accuracy for class navio is: 70.4 %\n",
            "Accuracy for class caminhao is: 79.7 %\n"
          ]
        }
      ]
    }
  ]
}